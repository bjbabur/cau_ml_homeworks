{
 "cells": [
  {
   "cell_type": "markdown",
   "metadata": {
    "colab_type": "text",
    "id": "VqEpGyyyGE1Z",
    "tags": [
     "pdf-title"
    ]
   },
   "source": [
    "## Solving the linear regression problem with gradient descent\n",
    "\n",
    "Today we rewise the linear regression algorithm and it's gradient solution.\n",
    "\n",
    "Your main goal will be to __derive and implement the gradient of MSE, MAE, L1 and L2 regularization terms__ respectively in general __vector form__ (when both single observation $\\mathbf{x}_i$ and corresponding target value $\\mathbf{y}_i$ are vectors).\n",
    "\n",
    "This techniques will be useful later in Deep Learning module of our course as well.\n",
    "\n",
    "We will work with [Boston housing prices dataset](https://scikit-learn.org/stable/modules/generated/sklearn.datasets.load_boston.html) subset, which have been preprocessed for your convenience."
   ]
  },
  {
   "cell_type": "code",
   "execution_count": null,
   "metadata": {},
   "outputs": [],
   "source": [
    "'''\n",
    "If you are using Google Colab, uncomment the next lines to download `loss_and_derivatives.py` and `boston_subset.json`\n",
    "You can open and change downloaded `.py` files in Colab using the \"Files\" sidebar on the left.\n",
    "'''\n",
    "# !wget https://raw.githubusercontent.com/girafe-ai/ml-course/22f_basic/homeworks/assignment0_02_lin_reg/loss_and_derivatives.py\n",
    "# !wget https://raw.githubusercontent.com/girafe-ai/ml-course/22f_basic/homeworks/assignment0_02_lin_reg/boston_subset.json"
   ]
  },
  {
   "cell_type": "code",
   "execution_count": 1,
   "metadata": {
    "colab": {},
    "colab_type": "code",
    "id": "8lQUR89nGE1f"
   },
   "outputs": [],
   "source": [
    "# Run some setup code for this notebook.\n",
    "import random\n",
    "import numpy as np\n",
    "import matplotlib.pyplot as plt\n",
    "\n",
    "# Some more magic so that the notebook will reload external python modules;\n",
    "# see http://stackoverflow.com/questions/1907993/autoreload-of-modules-in-ipython\n",
    "%load_ext autoreload\n",
    "%autoreload 2"
   ]
  },
  {
   "cell_type": "code",
   "execution_count": 2,
   "metadata": {
    "colab": {},
    "colab_type": "code",
    "id": "OGf3ShTNGE1q"
   },
   "outputs": [],
   "source": [
    "import json\n",
    "with open('boston_subset.json', 'r') as iofile:\n",
    "    dataset = json.load(iofile)\n",
    "feature_matrix = np.array(dataset['data'])\n",
    "targets = np.array(dataset['target'])"
   ]
  },
  {
   "cell_type": "markdown",
   "metadata": {
    "colab_type": "text",
    "id": "BIUU1cOZGE10"
   },
   "source": [
    "## Warming up: matrix differentiation\n",
    "_You will meet these questions later in Labs as well, so we highly recommend to answer them right here._\n",
    "\n",
    "Credits: this theoretical part is copied from [YSDA Practical_DL course](https://github.com/yandexdataschool/Practical_DL/tree/spring2019/homework01) homework01."
   ]
  },
  {
   "cell_type": "markdown",
   "metadata": {
    "colab_type": "text",
    "id": "CvrZt_xNGE12"
   },
   "source": [
    "Since it easy to google every task please please please try to understand what's going on. The \"just answer\" thing will not be  counted, make sure to present derivation of your solution. It is absolutely OK if you will find an answer on web then just exercise in $\\LaTeX$ copying it into here."
   ]
  },
  {
   "cell_type": "markdown",
   "metadata": {
    "colab_type": "text",
    "id": "ty4m156yGE15"
   },
   "source": [
    "Useful links: \n",
    "[1](http://www.machinelearning.ru/wiki/images/2/2a/Matrix-Gauss.pdf)\n",
    "[2](http://www.atmos.washington.edu/~dennis/MatrixCalculus.pdf)\n",
    "[3](http://cal.cs.illinois.edu/~johannes/research/matrix%20calculus.pdf)\n",
    "[4](http://research.microsoft.com/en-us/um/people/cmbishop/prml/index.htm)"
   ]
  },
  {
   "cell_type": "markdown",
   "metadata": {
    "colab_type": "text",
    "id": "k8StFOCFGE17"
   },
   "source": [
    "#### Inline question 1\n",
    "$$  \n",
    "y = x^Tx,  \\quad x \\in \\mathbb{R}^N \n",
    "$$\n",
    "\n",
    "$$\n",
    "\\frac{dy}{dx} = 2x\n",
    "$$ "
   ]
  },
  {
   "cell_type": "markdown",
   "metadata": {
    "colab_type": "text",
    "id": "qtnNCP4JGE19"
   },
   "source": [
    "#### Inline question 2\n",
    "$$ y = tr(AB) \\quad A,B \\in \\mathbb{R}^{N \\times N} $$ \n",
    "\n",
    "$$\n",
    "\\frac{dy}{dA} = B^T\n",
    "$$"
   ]
  },
  {
   "cell_type": "markdown",
   "metadata": {
    "colab_type": "text",
    "id": "JWfcC7_dGE2A"
   },
   "source": [
    "#### Inline question 3\n",
    "$$  \n",
    "y = x^TAc , \\quad A\\in \\mathbb{R}^{N \\times N}, x\\in \\mathbb{R}^{N}, c\\in \\mathbb{R}^{N} \n",
    "$$\n",
    "\n",
    "$$\n",
    "\\frac{dy}{dx} = Ac\n",
    "$$\n",
    "\n",
    "$$\n",
    "\\frac{dy}{dA} = x^Tc\n",
    "$$\n",
    "\n",
    "Hint for the latter (one of the ways): use *ex. 2* result and the fact \n",
    "$$\n",
    "tr(ABC) = tr (CAB)\n",
    "$$"
   ]
  },
  {
   "cell_type": "markdown",
   "metadata": {
    "colab_type": "text",
    "id": "WbBc_5FhGE2B"
   },
   "source": [
    "## Loss functions and derivatives implementation\n",
    "You will need to implement the methods from `loss_and_derivatives.py` to go further.\n",
    "__In this assignment we ignore the bias term__, so the linear model takes simple form of \n",
    "$$\n",
    "\\hat{\\mathbf{y}} = XW\n",
    "$$\n",
    "where no extra column of 1s is added to the $X$ matrix.\n",
    "\n",
    "Implement the loss functions, regularization terms and their derivatives with reference to (w.r.t.) weight matrix. \n",
    "\n",
    "__Once again, you can assume that linear model is not required for bias term for now. The dataset is preprocessed for this case.__"
   ]
  },
  {
   "cell_type": "markdown",
   "metadata": {
    "colab_type": "text",
    "id": "l-CX9dTLGE1y"
   },
   "source": [
    "Autoreload is a great stuff, but sometimes it does not work as intended. The code below aims to fix that. __Do not forget to save your changes in the `.py` file before reloading the desired functions.__"
   ]
  },
  {
   "cell_type": "code",
   "execution_count": 3,
   "metadata": {
    "colab": {},
    "colab_type": "code",
    "id": "dtELlRTOGE2E",
    "tags": [
     "pdf-ignore"
    ]
   },
   "outputs": [],
   "source": [
    "# This dirty hack might help if the autoreload has failed for some reason\n",
    "try:\n",
    "    del LossAndDerivatives\n",
    "except:\n",
    "    pass\n",
    "\n",
    "from loss_and_derivatives import LossAndDerivatives"
   ]
  },
  {
   "cell_type": "markdown",
   "metadata": {},
   "source": [
    "Mention, that in this case we compute the __MSE__ and __MAE__ for vector __y__. In the reference implementation we are averaging the error along the __y__ dimentionality as well.\n",
    "\n",
    "E.g. for residuals vector $[1., 1., 1., 1.]$ the averaged error value will be $\\frac{1}{4}(1. + 1. + 1. + 1.)$ \n",
    "\n",
    "This may be needed to get the desired mutliplier for loss functions derivatives. You also can refer to the `.mse` method implementation, which is already available in the `loss_and_derivatives.py`."
   ]
  },
  {
   "cell_type": "code",
   "execution_count": 4,
   "metadata": {
    "colab": {},
    "colab_type": "code",
    "id": "71VCxUwHGE2L"
   },
   "outputs": [],
   "source": [
    "w = np.array([1., 1.])\n",
    "x_n, y_n = feature_matrix, targets"
   ]
  },
  {
   "cell_type": "markdown",
   "metadata": {
    "colab_type": "text",
    "id": "sMN81aYyGE2T"
   },
   "source": [
    "Here come several asserts to check yourself:"
   ]
  },
  {
   "cell_type": "code",
   "execution_count": 5,
   "metadata": {
    "colab": {},
    "colab_type": "code",
    "id": "KKUYnPWuGE2V"
   },
   "outputs": [],
   "source": [
    "w = np.array([1., 1.])\n",
    "x_n, y_n = feature_matrix, targets\n",
    "\n",
    "# Repeating data to make everything multi-dimentional\n",
    "w = np.vstack([w[None, :] + 0.27, w[None, :] + 0.22, w[None, :] + 0.45, w[None, :] + 0.1]).T\n",
    "y_n = np.hstack([y_n[:, None], 2*y_n[:, None], 3*y_n[:, None], 4*y_n[:, None]])"
   ]
  },
  {
   "cell_type": "code",
   "execution_count": 6,
   "metadata": {
    "colab": {
     "base_uri": "https://localhost:8080/",
     "height": 477
    },
    "colab_type": "code",
    "executionInfo": {
     "elapsed": 1344,
     "status": "error",
     "timestamp": 1582397124081,
     "user": {
      "displayName": "Victor Yacovlev",
      "photoUrl": "https://lh3.googleusercontent.com/a-/AAuE7mDahDnBQR6_kQQX4xt7llKTI0xt2Z802bvVR4MrqA=s64",
      "userId": "11689260236152306260"
     },
     "user_tz": -180
    },
    "id": "UtkO4hWYGE2c",
    "outputId": "cb0b99a8-2db4-4873-dfd8-741b52db29f3"
   },
   "outputs": [
    {
     "ename": "TypeError",
     "evalue": "ufunc 'isfinite' not supported for the input types, and the inputs could not be safely coerced to any supported types according to the casting rule ''safe''",
     "output_type": "error",
     "traceback": [
      "\u001b[0;31m---------------------------------------------------------------------------\u001b[0m",
      "\u001b[0;31mTypeError\u001b[0m                                 Traceback (most recent call last)",
      "\u001b[1;32m/home/nedogeek/Documents/study/third-year/machine-learning/cau_ml_homeworks/hw_2_lin_reg/assignment0_02_linear_regression_and_derivatives.ipynb Cell 18\u001b[0m line \u001b[0;36m1\n\u001b[1;32m      <a href='vscode-notebook-cell:/home/nedogeek/Documents/study/third-year/machine-learning/cau_ml_homeworks/hw_2_lin_reg/assignment0_02_linear_regression_and_derivatives.ipynb#X23sZmlsZQ%3D%3D?line=0'>1</a>\u001b[0m reference_mse_derivative \u001b[39m=\u001b[39m np\u001b[39m.\u001b[39marray([\n\u001b[1;32m      <a href='vscode-notebook-cell:/home/nedogeek/Documents/study/third-year/machine-learning/cau_ml_homeworks/hw_2_lin_reg/assignment0_02_linear_regression_and_derivatives.ipynb#X23sZmlsZQ%3D%3D?line=1'>2</a>\u001b[0m     [ \u001b[39m7.32890068\u001b[39m, \u001b[39m12.88731311\u001b[39m, \u001b[39m18.82128365\u001b[39m, \u001b[39m23.97731238\u001b[39m],\n\u001b[1;32m      <a href='vscode-notebook-cell:/home/nedogeek/Documents/study/third-year/machine-learning/cau_ml_homeworks/hw_2_lin_reg/assignment0_02_linear_regression_and_derivatives.ipynb#X23sZmlsZQ%3D%3D?line=2'>3</a>\u001b[0m     [ \u001b[39m9.55674399\u001b[39m, \u001b[39m17.05397661\u001b[39m, \u001b[39m24.98807528\u001b[39m, \u001b[39m32.01723714\u001b[39m]\n\u001b[1;32m      <a href='vscode-notebook-cell:/home/nedogeek/Documents/study/third-year/machine-learning/cau_ml_homeworks/hw_2_lin_reg/assignment0_02_linear_regression_and_derivatives.ipynb#X23sZmlsZQ%3D%3D?line=3'>4</a>\u001b[0m ])\n\u001b[1;32m      <a href='vscode-notebook-cell:/home/nedogeek/Documents/study/third-year/machine-learning/cau_ml_homeworks/hw_2_lin_reg/assignment0_02_linear_regression_and_derivatives.ipynb#X23sZmlsZQ%3D%3D?line=4'>5</a>\u001b[0m reference_l2_reg_derivative \u001b[39m=\u001b[39m np\u001b[39m.\u001b[39marray([\n\u001b[1;32m      <a href='vscode-notebook-cell:/home/nedogeek/Documents/study/third-year/machine-learning/cau_ml_homeworks/hw_2_lin_reg/assignment0_02_linear_regression_and_derivatives.ipynb#X23sZmlsZQ%3D%3D?line=5'>6</a>\u001b[0m     [\u001b[39m2.54\u001b[39m, \u001b[39m2.44\u001b[39m, \u001b[39m2.9\u001b[39m , \u001b[39m2.2\u001b[39m ],\n\u001b[1;32m      <a href='vscode-notebook-cell:/home/nedogeek/Documents/study/third-year/machine-learning/cau_ml_homeworks/hw_2_lin_reg/assignment0_02_linear_regression_and_derivatives.ipynb#X23sZmlsZQ%3D%3D?line=6'>7</a>\u001b[0m     [\u001b[39m2.54\u001b[39m, \u001b[39m2.44\u001b[39m, \u001b[39m2.9\u001b[39m , \u001b[39m2.2\u001b[39m ]\n\u001b[1;32m      <a href='vscode-notebook-cell:/home/nedogeek/Documents/study/third-year/machine-learning/cau_ml_homeworks/hw_2_lin_reg/assignment0_02_linear_regression_and_derivatives.ipynb#X23sZmlsZQ%3D%3D?line=7'>8</a>\u001b[0m ])\n\u001b[0;32m---> <a href='vscode-notebook-cell:/home/nedogeek/Documents/study/third-year/machine-learning/cau_ml_homeworks/hw_2_lin_reg/assignment0_02_linear_regression_and_derivatives.ipynb#X23sZmlsZQ%3D%3D?line=9'>10</a>\u001b[0m \u001b[39massert\u001b[39;00m np\u001b[39m.\u001b[39;49mallclose(\n\u001b[1;32m     <a href='vscode-notebook-cell:/home/nedogeek/Documents/study/third-year/machine-learning/cau_ml_homeworks/hw_2_lin_reg/assignment0_02_linear_regression_and_derivatives.ipynb#X23sZmlsZQ%3D%3D?line=10'>11</a>\u001b[0m     reference_mse_derivative,\n\u001b[1;32m     <a href='vscode-notebook-cell:/home/nedogeek/Documents/study/third-year/machine-learning/cau_ml_homeworks/hw_2_lin_reg/assignment0_02_linear_regression_and_derivatives.ipynb#X23sZmlsZQ%3D%3D?line=11'>12</a>\u001b[0m     LossAndDerivatives\u001b[39m.\u001b[39;49mmse_derivative(x_n, y_n, w), rtol\u001b[39m=\u001b[39;49m\u001b[39m1e-3\u001b[39;49m\n\u001b[1;32m     <a href='vscode-notebook-cell:/home/nedogeek/Documents/study/third-year/machine-learning/cau_ml_homeworks/hw_2_lin_reg/assignment0_02_linear_regression_and_derivatives.ipynb#X23sZmlsZQ%3D%3D?line=12'>13</a>\u001b[0m ), \u001b[39m'\u001b[39m\u001b[39mSomething wrong with MSE derivative\u001b[39m\u001b[39m'\u001b[39m\n\u001b[1;32m     <a href='vscode-notebook-cell:/home/nedogeek/Documents/study/third-year/machine-learning/cau_ml_homeworks/hw_2_lin_reg/assignment0_02_linear_regression_and_derivatives.ipynb#X23sZmlsZQ%3D%3D?line=14'>15</a>\u001b[0m \u001b[39massert\u001b[39;00m np\u001b[39m.\u001b[39mallclose(\n\u001b[1;32m     <a href='vscode-notebook-cell:/home/nedogeek/Documents/study/third-year/machine-learning/cau_ml_homeworks/hw_2_lin_reg/assignment0_02_linear_regression_and_derivatives.ipynb#X23sZmlsZQ%3D%3D?line=15'>16</a>\u001b[0m     reference_l2_reg_derivative,\n\u001b[1;32m     <a href='vscode-notebook-cell:/home/nedogeek/Documents/study/third-year/machine-learning/cau_ml_homeworks/hw_2_lin_reg/assignment0_02_linear_regression_and_derivatives.ipynb#X23sZmlsZQ%3D%3D?line=16'>17</a>\u001b[0m     LossAndDerivatives\u001b[39m.\u001b[39ml2_reg_derivative(w), rtol\u001b[39m=\u001b[39m\u001b[39m1e-3\u001b[39m\n\u001b[1;32m     <a href='vscode-notebook-cell:/home/nedogeek/Documents/study/third-year/machine-learning/cau_ml_homeworks/hw_2_lin_reg/assignment0_02_linear_regression_and_derivatives.ipynb#X23sZmlsZQ%3D%3D?line=17'>18</a>\u001b[0m ), \u001b[39m'\u001b[39m\u001b[39mSomething wrong with L2 reg derivative\u001b[39m\u001b[39m'\u001b[39m\n\u001b[1;32m     <a href='vscode-notebook-cell:/home/nedogeek/Documents/study/third-year/machine-learning/cau_ml_homeworks/hw_2_lin_reg/assignment0_02_linear_regression_and_derivatives.ipynb#X23sZmlsZQ%3D%3D?line=19'>20</a>\u001b[0m \u001b[39mprint\u001b[39m(\n\u001b[1;32m     <a href='vscode-notebook-cell:/home/nedogeek/Documents/study/third-year/machine-learning/cau_ml_homeworks/hw_2_lin_reg/assignment0_02_linear_regression_and_derivatives.ipynb#X23sZmlsZQ%3D%3D?line=20'>21</a>\u001b[0m     \u001b[39m'\u001b[39m\u001b[39mMSE derivative:\u001b[39m\u001b[39m\\n\u001b[39;00m\u001b[39m{}\u001b[39;00m\u001b[39m \u001b[39m\u001b[39m\\n\u001b[39;00m\u001b[39m\\n\u001b[39;00m\u001b[39mL2 reg derivative:\u001b[39m\u001b[39m\\n\u001b[39;00m\u001b[39m{}\u001b[39;00m\u001b[39m'\u001b[39m\u001b[39m.\u001b[39mformat(\n\u001b[1;32m     <a href='vscode-notebook-cell:/home/nedogeek/Documents/study/third-year/machine-learning/cau_ml_homeworks/hw_2_lin_reg/assignment0_02_linear_regression_and_derivatives.ipynb#X23sZmlsZQ%3D%3D?line=21'>22</a>\u001b[0m         LossAndDerivatives\u001b[39m.\u001b[39mmse_derivative(x_n, y_n, w),\n\u001b[1;32m     <a href='vscode-notebook-cell:/home/nedogeek/Documents/study/third-year/machine-learning/cau_ml_homeworks/hw_2_lin_reg/assignment0_02_linear_regression_and_derivatives.ipynb#X23sZmlsZQ%3D%3D?line=22'>23</a>\u001b[0m         LossAndDerivatives\u001b[39m.\u001b[39ml2_reg_derivative(w))\n\u001b[1;32m     <a href='vscode-notebook-cell:/home/nedogeek/Documents/study/third-year/machine-learning/cau_ml_homeworks/hw_2_lin_reg/assignment0_02_linear_regression_and_derivatives.ipynb#X23sZmlsZQ%3D%3D?line=23'>24</a>\u001b[0m )\n",
      "File \u001b[0;32m~/Documents/study/third-year/machine-learning/cau_ml_homeworks/.venv/lib64/python3.11/site-packages/numpy/core/numeric.py:2241\u001b[0m, in \u001b[0;36mallclose\u001b[0;34m(a, b, rtol, atol, equal_nan)\u001b[0m\n\u001b[1;32m   2170\u001b[0m \u001b[39m@array_function_dispatch\u001b[39m(_allclose_dispatcher)\n\u001b[1;32m   2171\u001b[0m \u001b[39mdef\u001b[39;00m \u001b[39mallclose\u001b[39m(a, b, rtol\u001b[39m=\u001b[39m\u001b[39m1.e-5\u001b[39m, atol\u001b[39m=\u001b[39m\u001b[39m1.e-8\u001b[39m, equal_nan\u001b[39m=\u001b[39m\u001b[39mFalse\u001b[39;00m):\n\u001b[1;32m   2172\u001b[0m \u001b[39m    \u001b[39m\u001b[39m\"\"\"\u001b[39;00m\n\u001b[1;32m   2173\u001b[0m \u001b[39m    Returns True if two arrays are element-wise equal within a tolerance.\u001b[39;00m\n\u001b[1;32m   2174\u001b[0m \n\u001b[0;32m   (...)\u001b[0m\n\u001b[1;32m   2239\u001b[0m \n\u001b[1;32m   2240\u001b[0m \u001b[39m    \"\"\"\u001b[39;00m\n\u001b[0;32m-> 2241\u001b[0m     res \u001b[39m=\u001b[39m \u001b[39mall\u001b[39m(isclose(a, b, rtol\u001b[39m=\u001b[39;49mrtol, atol\u001b[39m=\u001b[39;49matol, equal_nan\u001b[39m=\u001b[39;49mequal_nan))\n\u001b[1;32m   2242\u001b[0m     \u001b[39mreturn\u001b[39;00m \u001b[39mbool\u001b[39m(res)\n",
      "File \u001b[0;32m~/Documents/study/third-year/machine-learning/cau_ml_homeworks/.venv/lib64/python3.11/site-packages/numpy/core/numeric.py:2349\u001b[0m, in \u001b[0;36misclose\u001b[0;34m(a, b, rtol, atol, equal_nan)\u001b[0m\n\u001b[1;32m   2346\u001b[0m     y \u001b[39m=\u001b[39m asanyarray(y, dtype\u001b[39m=\u001b[39mdt)\n\u001b[1;32m   2348\u001b[0m xfin \u001b[39m=\u001b[39m isfinite(x)\n\u001b[0;32m-> 2349\u001b[0m yfin \u001b[39m=\u001b[39m isfinite(y)\n\u001b[1;32m   2350\u001b[0m \u001b[39mif\u001b[39;00m \u001b[39mall\u001b[39m(xfin) \u001b[39mand\u001b[39;00m \u001b[39mall\u001b[39m(yfin):\n\u001b[1;32m   2351\u001b[0m     \u001b[39mreturn\u001b[39;00m within_tol(x, y, atol, rtol)\n",
      "\u001b[0;31mTypeError\u001b[0m: ufunc 'isfinite' not supported for the input types, and the inputs could not be safely coerced to any supported types according to the casting rule ''safe''"
     ]
    }
   ],
   "source": [
    "reference_mse_derivative = np.array([\n",
    "    [ 7.32890068, 12.88731311, 18.82128365, 23.97731238],\n",
    "    [ 9.55674399, 17.05397661, 24.98807528, 32.01723714]\n",
    "])\n",
    "reference_l2_reg_derivative = np.array([\n",
    "    [2.54, 2.44, 2.9 , 2.2 ],\n",
    "    [2.54, 2.44, 2.9 , 2.2 ]\n",
    "])\n",
    "\n",
    "assert np.allclose(\n",
    "    reference_mse_derivative,\n",
    "    LossAndDerivatives.mse_derivative(x_n, y_n, w), rtol=1e-3\n",
    "), 'Something wrong with MSE derivative'\n",
    "\n",
    "assert np.allclose(\n",
    "    reference_l2_reg_derivative,\n",
    "    LossAndDerivatives.l2_reg_derivative(w), rtol=1e-3\n",
    "), 'Something wrong with L2 reg derivative'\n",
    "\n",
    "print(\n",
    "    'MSE derivative:\\n{} \\n\\nL2 reg derivative:\\n{}'.format(\n",
    "        LossAndDerivatives.mse_derivative(x_n, y_n, w),\n",
    "        LossAndDerivatives.l2_reg_derivative(w))\n",
    ")"
   ]
  },
  {
   "cell_type": "code",
   "execution_count": 7,
   "metadata": {},
   "outputs": [
    {
     "ename": "TypeError",
     "evalue": "ufunc 'isfinite' not supported for the input types, and the inputs could not be safely coerced to any supported types according to the casting rule ''safe''",
     "output_type": "error",
     "traceback": [
      "\u001b[0;31m---------------------------------------------------------------------------\u001b[0m",
      "\u001b[0;31mTypeError\u001b[0m                                 Traceback (most recent call last)",
      "\u001b[1;32m/home/nedogeek/Documents/study/third-year/machine-learning/cau_ml_homeworks/hw_2_lin_reg/assignment0_02_linear_regression_and_derivatives.ipynb Cell 19\u001b[0m line \u001b[0;36m1\n\u001b[1;32m      <a href='vscode-notebook-cell:/home/nedogeek/Documents/study/third-year/machine-learning/cau_ml_homeworks/hw_2_lin_reg/assignment0_02_linear_regression_and_derivatives.ipynb#X24sZmlsZQ%3D%3D?line=0'>1</a>\u001b[0m reference_mae_derivative \u001b[39m=\u001b[39m np\u001b[39m.\u001b[39marray([\n\u001b[1;32m      <a href='vscode-notebook-cell:/home/nedogeek/Documents/study/third-year/machine-learning/cau_ml_homeworks/hw_2_lin_reg/assignment0_02_linear_regression_and_derivatives.ipynb#X24sZmlsZQ%3D%3D?line=1'>2</a>\u001b[0m     [\u001b[39m0.19708867\u001b[39m, \u001b[39m0.19621798\u001b[39m, \u001b[39m0.19621798\u001b[39m, \u001b[39m0.19572906\u001b[39m],\n\u001b[1;32m      <a href='vscode-notebook-cell:/home/nedogeek/Documents/study/third-year/machine-learning/cau_ml_homeworks/hw_2_lin_reg/assignment0_02_linear_regression_and_derivatives.ipynb#X24sZmlsZQ%3D%3D?line=2'>3</a>\u001b[0m     [\u001b[39m0.25574138\u001b[39m, \u001b[39m0.25524507\u001b[39m, \u001b[39m0.25524507\u001b[39m, \u001b[39m0.25406404\u001b[39m]\n\u001b[1;32m      <a href='vscode-notebook-cell:/home/nedogeek/Documents/study/third-year/machine-learning/cau_ml_homeworks/hw_2_lin_reg/assignment0_02_linear_regression_and_derivatives.ipynb#X24sZmlsZQ%3D%3D?line=3'>4</a>\u001b[0m ])\n\u001b[1;32m      <a href='vscode-notebook-cell:/home/nedogeek/Documents/study/third-year/machine-learning/cau_ml_homeworks/hw_2_lin_reg/assignment0_02_linear_regression_and_derivatives.ipynb#X24sZmlsZQ%3D%3D?line=4'>5</a>\u001b[0m reference_l1_reg_derivative \u001b[39m=\u001b[39m np\u001b[39m.\u001b[39marray([\n\u001b[1;32m      <a href='vscode-notebook-cell:/home/nedogeek/Documents/study/third-year/machine-learning/cau_ml_homeworks/hw_2_lin_reg/assignment0_02_linear_regression_and_derivatives.ipynb#X24sZmlsZQ%3D%3D?line=5'>6</a>\u001b[0m     [\u001b[39m1.\u001b[39m, \u001b[39m1.\u001b[39m, \u001b[39m1.\u001b[39m, \u001b[39m1.\u001b[39m],\n\u001b[1;32m      <a href='vscode-notebook-cell:/home/nedogeek/Documents/study/third-year/machine-learning/cau_ml_homeworks/hw_2_lin_reg/assignment0_02_linear_regression_and_derivatives.ipynb#X24sZmlsZQ%3D%3D?line=6'>7</a>\u001b[0m     [\u001b[39m1.\u001b[39m, \u001b[39m1.\u001b[39m, \u001b[39m1.\u001b[39m, \u001b[39m1.\u001b[39m]\n\u001b[1;32m      <a href='vscode-notebook-cell:/home/nedogeek/Documents/study/third-year/machine-learning/cau_ml_homeworks/hw_2_lin_reg/assignment0_02_linear_regression_and_derivatives.ipynb#X24sZmlsZQ%3D%3D?line=7'>8</a>\u001b[0m ])\n\u001b[0;32m---> <a href='vscode-notebook-cell:/home/nedogeek/Documents/study/third-year/machine-learning/cau_ml_homeworks/hw_2_lin_reg/assignment0_02_linear_regression_and_derivatives.ipynb#X24sZmlsZQ%3D%3D?line=9'>10</a>\u001b[0m \u001b[39massert\u001b[39;00m np\u001b[39m.\u001b[39;49mallclose(\n\u001b[1;32m     <a href='vscode-notebook-cell:/home/nedogeek/Documents/study/third-year/machine-learning/cau_ml_homeworks/hw_2_lin_reg/assignment0_02_linear_regression_and_derivatives.ipynb#X24sZmlsZQ%3D%3D?line=10'>11</a>\u001b[0m     reference_mae_derivative,\n\u001b[1;32m     <a href='vscode-notebook-cell:/home/nedogeek/Documents/study/third-year/machine-learning/cau_ml_homeworks/hw_2_lin_reg/assignment0_02_linear_regression_and_derivatives.ipynb#X24sZmlsZQ%3D%3D?line=11'>12</a>\u001b[0m     LossAndDerivatives\u001b[39m.\u001b[39;49mmae_derivative(x_n, y_n, w), rtol\u001b[39m=\u001b[39;49m\u001b[39m1e-3\u001b[39;49m\n\u001b[1;32m     <a href='vscode-notebook-cell:/home/nedogeek/Documents/study/third-year/machine-learning/cau_ml_homeworks/hw_2_lin_reg/assignment0_02_linear_regression_and_derivatives.ipynb#X24sZmlsZQ%3D%3D?line=12'>13</a>\u001b[0m ), \u001b[39m'\u001b[39m\u001b[39mSomething wrong with MAE derivative\u001b[39m\u001b[39m'\u001b[39m\n\u001b[1;32m     <a href='vscode-notebook-cell:/home/nedogeek/Documents/study/third-year/machine-learning/cau_ml_homeworks/hw_2_lin_reg/assignment0_02_linear_regression_and_derivatives.ipynb#X24sZmlsZQ%3D%3D?line=14'>15</a>\u001b[0m \u001b[39massert\u001b[39;00m np\u001b[39m.\u001b[39mallclose(\n\u001b[1;32m     <a href='vscode-notebook-cell:/home/nedogeek/Documents/study/third-year/machine-learning/cau_ml_homeworks/hw_2_lin_reg/assignment0_02_linear_regression_and_derivatives.ipynb#X24sZmlsZQ%3D%3D?line=15'>16</a>\u001b[0m     reference_l1_reg_derivative,\n\u001b[1;32m     <a href='vscode-notebook-cell:/home/nedogeek/Documents/study/third-year/machine-learning/cau_ml_homeworks/hw_2_lin_reg/assignment0_02_linear_regression_and_derivatives.ipynb#X24sZmlsZQ%3D%3D?line=16'>17</a>\u001b[0m     LossAndDerivatives\u001b[39m.\u001b[39ml1_reg_derivative(w), rtol\u001b[39m=\u001b[39m\u001b[39m1e-3\u001b[39m\n\u001b[1;32m     <a href='vscode-notebook-cell:/home/nedogeek/Documents/study/third-year/machine-learning/cau_ml_homeworks/hw_2_lin_reg/assignment0_02_linear_regression_and_derivatives.ipynb#X24sZmlsZQ%3D%3D?line=17'>18</a>\u001b[0m ), \u001b[39m'\u001b[39m\u001b[39mSomething wrong with L1 reg derivative\u001b[39m\u001b[39m'\u001b[39m\n\u001b[1;32m     <a href='vscode-notebook-cell:/home/nedogeek/Documents/study/third-year/machine-learning/cau_ml_homeworks/hw_2_lin_reg/assignment0_02_linear_regression_and_derivatives.ipynb#X24sZmlsZQ%3D%3D?line=19'>20</a>\u001b[0m \u001b[39mprint\u001b[39m(\n\u001b[1;32m     <a href='vscode-notebook-cell:/home/nedogeek/Documents/study/third-year/machine-learning/cau_ml_homeworks/hw_2_lin_reg/assignment0_02_linear_regression_and_derivatives.ipynb#X24sZmlsZQ%3D%3D?line=20'>21</a>\u001b[0m     \u001b[39m'\u001b[39m\u001b[39mMAE derivative:\u001b[39m\u001b[39m\\n\u001b[39;00m\u001b[39m{}\u001b[39;00m\u001b[39m \u001b[39m\u001b[39m\\n\u001b[39;00m\u001b[39m\\n\u001b[39;00m\u001b[39mL1 reg derivative:\u001b[39m\u001b[39m\\n\u001b[39;00m\u001b[39m{}\u001b[39;00m\u001b[39m'\u001b[39m\u001b[39m.\u001b[39mformat(\n\u001b[1;32m     <a href='vscode-notebook-cell:/home/nedogeek/Documents/study/third-year/machine-learning/cau_ml_homeworks/hw_2_lin_reg/assignment0_02_linear_regression_and_derivatives.ipynb#X24sZmlsZQ%3D%3D?line=21'>22</a>\u001b[0m         LossAndDerivatives\u001b[39m.\u001b[39mmae_derivative(x_n, y_n, w),\n\u001b[1;32m     <a href='vscode-notebook-cell:/home/nedogeek/Documents/study/third-year/machine-learning/cau_ml_homeworks/hw_2_lin_reg/assignment0_02_linear_regression_and_derivatives.ipynb#X24sZmlsZQ%3D%3D?line=22'>23</a>\u001b[0m         LossAndDerivatives\u001b[39m.\u001b[39ml1_reg_derivative(w))\n\u001b[1;32m     <a href='vscode-notebook-cell:/home/nedogeek/Documents/study/third-year/machine-learning/cau_ml_homeworks/hw_2_lin_reg/assignment0_02_linear_regression_and_derivatives.ipynb#X24sZmlsZQ%3D%3D?line=23'>24</a>\u001b[0m )\n",
      "File \u001b[0;32m~/Documents/study/third-year/machine-learning/cau_ml_homeworks/.venv/lib64/python3.11/site-packages/numpy/core/numeric.py:2241\u001b[0m, in \u001b[0;36mallclose\u001b[0;34m(a, b, rtol, atol, equal_nan)\u001b[0m\n\u001b[1;32m   2170\u001b[0m \u001b[39m@array_function_dispatch\u001b[39m(_allclose_dispatcher)\n\u001b[1;32m   2171\u001b[0m \u001b[39mdef\u001b[39;00m \u001b[39mallclose\u001b[39m(a, b, rtol\u001b[39m=\u001b[39m\u001b[39m1.e-5\u001b[39m, atol\u001b[39m=\u001b[39m\u001b[39m1.e-8\u001b[39m, equal_nan\u001b[39m=\u001b[39m\u001b[39mFalse\u001b[39;00m):\n\u001b[1;32m   2172\u001b[0m \u001b[39m    \u001b[39m\u001b[39m\"\"\"\u001b[39;00m\n\u001b[1;32m   2173\u001b[0m \u001b[39m    Returns True if two arrays are element-wise equal within a tolerance.\u001b[39;00m\n\u001b[1;32m   2174\u001b[0m \n\u001b[0;32m   (...)\u001b[0m\n\u001b[1;32m   2239\u001b[0m \n\u001b[1;32m   2240\u001b[0m \u001b[39m    \"\"\"\u001b[39;00m\n\u001b[0;32m-> 2241\u001b[0m     res \u001b[39m=\u001b[39m \u001b[39mall\u001b[39m(isclose(a, b, rtol\u001b[39m=\u001b[39;49mrtol, atol\u001b[39m=\u001b[39;49matol, equal_nan\u001b[39m=\u001b[39;49mequal_nan))\n\u001b[1;32m   2242\u001b[0m     \u001b[39mreturn\u001b[39;00m \u001b[39mbool\u001b[39m(res)\n",
      "File \u001b[0;32m~/Documents/study/third-year/machine-learning/cau_ml_homeworks/.venv/lib64/python3.11/site-packages/numpy/core/numeric.py:2349\u001b[0m, in \u001b[0;36misclose\u001b[0;34m(a, b, rtol, atol, equal_nan)\u001b[0m\n\u001b[1;32m   2346\u001b[0m     y \u001b[39m=\u001b[39m asanyarray(y, dtype\u001b[39m=\u001b[39mdt)\n\u001b[1;32m   2348\u001b[0m xfin \u001b[39m=\u001b[39m isfinite(x)\n\u001b[0;32m-> 2349\u001b[0m yfin \u001b[39m=\u001b[39m isfinite(y)\n\u001b[1;32m   2350\u001b[0m \u001b[39mif\u001b[39;00m \u001b[39mall\u001b[39m(xfin) \u001b[39mand\u001b[39;00m \u001b[39mall\u001b[39m(yfin):\n\u001b[1;32m   2351\u001b[0m     \u001b[39mreturn\u001b[39;00m within_tol(x, y, atol, rtol)\n",
      "\u001b[0;31mTypeError\u001b[0m: ufunc 'isfinite' not supported for the input types, and the inputs could not be safely coerced to any supported types according to the casting rule ''safe''"
     ]
    }
   ],
   "source": [
    "reference_mae_derivative = np.array([\n",
    "    [0.19708867, 0.19621798, 0.19621798, 0.19572906],\n",
    "    [0.25574138, 0.25524507, 0.25524507, 0.25406404]\n",
    "])\n",
    "reference_l1_reg_derivative = np.array([\n",
    "    [1., 1., 1., 1.],\n",
    "    [1., 1., 1., 1.]\n",
    "])\n",
    "\n",
    "assert np.allclose(\n",
    "    reference_mae_derivative,\n",
    "    LossAndDerivatives.mae_derivative(x_n, y_n, w), rtol=1e-3\n",
    "), 'Something wrong with MAE derivative'\n",
    "\n",
    "assert np.allclose(\n",
    "    reference_l1_reg_derivative,\n",
    "    LossAndDerivatives.l1_reg_derivative(w), rtol=1e-3\n",
    "), 'Something wrong with L1 reg derivative'\n",
    "\n",
    "print(\n",
    "    'MAE derivative:\\n{} \\n\\nL1 reg derivative:\\n{}'.format(\n",
    "        LossAndDerivatives.mae_derivative(x_n, y_n, w),\n",
    "        LossAndDerivatives.l1_reg_derivative(w))\n",
    ")"
   ]
  },
  {
   "cell_type": "markdown",
   "metadata": {
    "colab_type": "text",
    "id": "kJcSPj8UGE20"
   },
   "source": [
    "### Gradient descent on the real data\n",
    "Here comes small loop with gradient descent algorithm. We compute the gradient over the whole dataset."
   ]
  },
  {
   "cell_type": "code",
   "execution_count": null,
   "metadata": {
    "colab": {},
    "colab_type": "code",
    "id": "On6aSWuIGE21"
   },
   "outputs": [],
   "source": [
    "def get_w_by_grad(X, Y, w_0, loss_mode='mse', reg_mode=None, lr=0.05, n_steps=100, reg_coeff=0.05):\n",
    "    if loss_mode == 'mse':\n",
    "        loss_function = LossAndDerivatives.mse\n",
    "        loss_derivative = LossAndDerivatives.mse_derivative\n",
    "    elif loss_mode == 'mae':\n",
    "        loss_function = LossAndDerivatives.mae\n",
    "        loss_derivative = LossAndDerivatives.mae_derivative\n",
    "    else:\n",
    "        raise ValueError('Unknown loss function. Available loss functions: `mse`, `mae`')\n",
    "    \n",
    "    if reg_mode is None:\n",
    "        reg_function = LossAndDerivatives.no_reg\n",
    "        reg_derivative = LossAndDerivatives.no_reg_derivative # lambda w: np.zeros_like(w)\n",
    "    elif reg_mode == 'l2':\n",
    "        reg_function = LossAndDerivatives.l2_reg\n",
    "        reg_derivative = LossAndDerivatives.l2_reg_derivative\n",
    "    elif reg_mode == 'l1':\n",
    "        reg_function = LossAndDerivatives.l1_reg\n",
    "        reg_derivative = LossAndDerivatives.l1_reg_derivative\n",
    "    else:\n",
    "        raise ValueError('Unknown regularization mode. Available modes: `l1`, `l2`, None')\n",
    "    \n",
    "    \n",
    "    w = w_0.copy()\n",
    "\n",
    "    for i in range(n_steps):\n",
    "        empirical_risk = loss_function(X, Y, w) + reg_coeff * reg_function(w)\n",
    "        gradient = loss_derivative(X, Y, w) + reg_coeff * reg_derivative(w)\n",
    "        gradient_norm = np.linalg.norm(gradient)\n",
    "        if gradient_norm > 5.:\n",
    "            gradient = gradient / gradient_norm * 5.\n",
    "        w -= lr * gradient\n",
    "        \n",
    "        if i % 25 == 0:\n",
    "            print('Step={}, loss={},\\ngradient values={}\\n'.format(i, empirical_risk, gradient))\n",
    "    return w\n"
   ]
  },
  {
   "cell_type": "markdown",
   "metadata": {},
   "source": [
    "Let's check how it works."
   ]
  },
  {
   "cell_type": "code",
   "execution_count": null,
   "metadata": {
    "colab": {},
    "colab_type": "code",
    "id": "A1pyDIyqGE25"
   },
   "outputs": [],
   "source": [
    "# Initial weight matrix\n",
    "w = np.ones((2,1), dtype=float)\n",
    "y_n = targets[:, None] "
   ]
  },
  {
   "cell_type": "code",
   "execution_count": null,
   "metadata": {
    "colab": {},
    "colab_type": "code",
    "id": "erTRQiAFGE29"
   },
   "outputs": [],
   "source": [
    "w_grad = get_w_by_grad(x_n, y_n, w, loss_mode='mse', reg_mode='l2', n_steps=250)"
   ]
  },
  {
   "cell_type": "markdown",
   "metadata": {},
   "source": [
    "### Comparing with `sklearn`\n",
    "Finally, let's compare our model with `sklearn` implementation."
   ]
  },
  {
   "cell_type": "code",
   "execution_count": null,
   "metadata": {},
   "outputs": [],
   "source": [
    "from sklearn.linear_model import Ridge"
   ]
  },
  {
   "cell_type": "code",
   "execution_count": null,
   "metadata": {},
   "outputs": [],
   "source": [
    "lr = Ridge(alpha=0.05)\n",
    "lr.fit(x_n, y_n)\n",
    "print('sklearn linear regression implementation delivers MSE = {}'.format(np.mean((lr.predict(x_n) - y_n)**2)))"
   ]
  },
  {
   "cell_type": "code",
   "execution_count": null,
   "metadata": {
    "colab": {},
    "colab_type": "code",
    "id": "Gse1m4nyGE3C"
   },
   "outputs": [],
   "source": [
    "plt.scatter(x_n[:, -1], y_n[:, -1])\n",
    "plt.scatter(x_n[:, -1], x_n.dot(w_grad)[:, -1], color='orange', label='Handwritten linear regression', linewidth=5)\n",
    "plt.scatter(x_n[:, -1], lr.predict(x_n), color='cyan', label='sklearn Ridge')\n",
    "plt.legend()\n",
    "plt.show()"
   ]
  },
  {
   "cell_type": "markdown",
   "metadata": {},
   "source": [
    "While the solutions may look like a bit different, remember, that handwritten linear regression was unable to fit the bias term, it was equal to $0$ by default."
   ]
  },
  {
   "cell_type": "markdown",
   "metadata": {
    "colab_type": "text",
    "id": "6GgeWdBmGE3H"
   },
   "source": [
    "### Submit your work\n",
    "To submit your work you need to log into Yandex contest (link will be provided later) and upload the `loss_and_derivatives.py` file for the corresponding problem."
   ]
  }
 ],
 "metadata": {
  "colab": {
   "collapsed_sections": [],
   "name": "assignment0_02_linear_regression_and_gradient_descent.ipynb",
   "provenance": []
  },
  "kernelspec": {
   "display_name": ".venv",
   "language": "python",
   "name": "python3"
  },
  "language_info": {
   "codemirror_mode": {
    "name": "ipython",
    "version": 3
   },
   "file_extension": ".py",
   "mimetype": "text/x-python",
   "name": "python",
   "nbconvert_exporter": "python",
   "pygments_lexer": "ipython3",
   "version": "3.12.0"
  }
 },
 "nbformat": 4,
 "nbformat_minor": 1
}
